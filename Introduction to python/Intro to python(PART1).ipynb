{
 "cells": [
  {
   "cell_type": "markdown",
   "id": "c8813ac6",
   "metadata": {},
   "source": [
    "## Sum of two numbers"
   ]
  },
  {
   "cell_type": "code",
   "execution_count": 5,
   "id": "155d624f",
   "metadata": {},
   "outputs": [
    {
     "name": "stdout",
     "output_type": "stream",
     "text": [
      "10\n",
      "20\n",
      "30\n"
     ]
    }
   ],
   "source": [
    "a=int(input())\n",
    "b=int(input())\n",
    "summ=a+b\n",
    "print(summ)\n"
   ]
  },
  {
   "cell_type": "markdown",
   "id": "8855c402",
   "metadata": {},
   "source": [
    "## Find avg marks\n",
    "Write a program to input marks of three tests of a student (all integers). Then calculate and print the average of all test marks."
   ]
  },
  {
   "cell_type": "code",
   "execution_count": 6,
   "id": "34a3cebc",
   "metadata": {},
   "outputs": [
    {
     "name": "stdout",
     "output_type": "stream",
     "text": [
      "5\n",
      "6\n",
      "8\n",
      "6.333333333333333\n"
     ]
    }
   ],
   "source": [
    "a=int(input())\n",
    "b=int(input())\n",
    "c=int(input())\n",
    "avg=(a+b+c)/3\n",
    "print(avg)"
   ]
  },
  {
   "cell_type": "markdown",
   "id": "9c1bc505",
   "metadata": {},
   "source": [
    "## Find X raised to power N\n",
    "You are given two integers: X and N. You have to calculate X raised to power N and print it."
   ]
  },
  {
   "cell_type": "code",
   "execution_count": 7,
   "id": "63642a79",
   "metadata": {},
   "outputs": [
    {
     "name": "stdout",
     "output_type": "stream",
     "text": [
      "4\n",
      "3\n",
      "64\n"
     ]
    }
   ],
   "source": [
    "x=int(input())\n",
    "n=int(input())\n",
    "e=x**n\n",
    "print(e)"
   ]
  },
  {
   "cell_type": "markdown",
   "id": "1969a949",
   "metadata": {},
   "source": [
    "## Arithmetic Progression\n",
    "You are given first three entries of an arithmetic progression. You have to calculate the common difference and print it."
   ]
  },
  {
   "cell_type": "code",
   "execution_count": 9,
   "id": "44ca3116",
   "metadata": {},
   "outputs": [
    {
     "name": "stdout",
     "output_type": "stream",
     "text": [
      "7\n",
      "8\n",
      "9\n",
      "1\n"
     ]
    }
   ],
   "source": [
    "x1=int(input())\n",
    "x2=int(input())\n",
    "x3=int(input())\n",
    "cd=(x3-x2)\n",
    "print(cd)"
   ]
  },
  {
   "cell_type": "markdown",
   "id": "243317d0",
   "metadata": {},
   "source": [
    "## Rectangular Area\n",
    "You are given a rectangle in a plane. The coordinates of one of its diagonals are provided to you. You have to print the total area of the rectangle.\n",
    "The coordinates of the rectangle are provided as four integral values: $x1, y1, x2, y2$. It is given that $x1 < x2$ and $y1 < y2$."
   ]
  },
  {
   "cell_type": "code",
   "execution_count": 10,
   "id": "70c31029",
   "metadata": {},
   "outputs": [
    {
     "name": "stdout",
     "output_type": "stream",
     "text": [
      "8\n",
      "6\n",
      "5\n",
      "3\n",
      "9\n"
     ]
    }
   ],
   "source": [
    "x1=int(input())\n",
    "y1=int(input())\n",
    "x2=int(input())\n",
    "y2=int(input())\n",
    "area=((x2-x1)*(y2-y1))\n",
    "print(area)\n"
   ]
  },
  {
   "cell_type": "markdown",
   "id": "56425b2b",
   "metadata": {},
   "source": []
  }
 ],
 "metadata": {
  "kernelspec": {
   "display_name": "Python 3 (ipykernel)",
   "language": "python",
   "name": "python3"
  },
  "language_info": {
   "codemirror_mode": {
    "name": "ipython",
    "version": 3
   },
   "file_extension": ".py",
   "mimetype": "text/x-python",
   "name": "python",
   "nbconvert_exporter": "python",
   "pygments_lexer": "ipython3",
   "version": "3.9.12"
  }
 },
 "nbformat": 4,
 "nbformat_minor": 5
}
